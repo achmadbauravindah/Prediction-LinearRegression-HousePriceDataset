{
  "nbformat": 4,
  "nbformat_minor": 0,
  "metadata": {
    "colab": {
      "name": "Prediction-LinearRegression-HousePriceDataset.ipynb",
      "provenance": [],
      "authorship_tag": "ABX9TyM8u/ou7vjau9r9aBhsvrpo",
      "include_colab_link": true
    },
    "kernelspec": {
      "name": "python3",
      "display_name": "Python 3"
    },
    "language_info": {
      "name": "python"
    }
  },
  "cells": [
    {
      "cell_type": "markdown",
      "metadata": {
        "id": "view-in-github",
        "colab_type": "text"
      },
      "source": [
        "<a href=\"https://colab.research.google.com/github/achmadbauravindah/Prediction-LinearRegression-HousePriceDataset/blob/main/Prediction_LinearRegression_HousePriceDataset.ipynb\" target=\"_parent\"><img src=\"https://colab.research.google.com/assets/colab-badge.svg\" alt=\"Open In Colab\"/></a>"
      ]
    },
    {
      "cell_type": "code",
      "source": [
        "import matplotlib.pyplot as plt # Plotting\n",
        "import numpy as np # Array\n",
        "import pandas as pd # Dataframe\n",
        "from sklearn.preprocessing import MinMaxScaler # Normalisasi data\n",
        "from sklearn.model_selection import train_test_split # Split data\n",
        "from sklearn.linear_model import LinearRegression"
      ],
      "metadata": {
        "id": "XakZng3qV-R1"
      },
      "execution_count": 34,
      "outputs": []
    },
    {
      "cell_type": "code",
      "execution_count": 3,
      "metadata": {
        "id": "wY2PJO0PVbo4"
      },
      "outputs": [],
      "source": [
        "# Get data from Kaggle\n",
        "_ = ! git clone https://github.com/achmadbauravindah/ravin_kaggle_credential.git # get credential from kaggle\n",
        "_ = ! pip install kaggle # install kaggle on device\n",
        "_ = ! mkdir ~/.kaggle # make hidden folder .kaggle to configure credential\n",
        "_ = ! cp ravin_kaggle_credential/kaggle.json ~/.kaggle/ # copy credential from github to .kaggle folder\n",
        "_ = ! chmod 600 ~/.kaggle/kaggle.json # change access\n",
        "_ = ! kaggle datasets download house-price-dataset # which dataset to download\n",
        "_ = ! unzip house-price-dataset # unzip if data zipped"
      ]
    },
    {
      "cell_type": "markdown",
      "source": [
        "### Data Preprocessing"
      ],
      "metadata": {
        "id": "dImp4TUuY111"
      }
    },
    {
      "cell_type": "code",
      "source": [
        "PATH = \"House Price.csv\"\n",
        "raw_data = pd.read_csv(PATH)"
      ],
      "metadata": {
        "id": "WUaZvdWvWVf5"
      },
      "execution_count": 26,
      "outputs": []
    },
    {
      "cell_type": "code",
      "source": [
        "# Create new DataFrame\n",
        "data = []\n",
        "data = pd.DataFrame(data)"
      ],
      "metadata": {
        "id": "mYL-NEt3Xc8A"
      },
      "execution_count": 22,
      "outputs": []
    },
    {
      "cell_type": "code",
      "source": [
        "# Create 2 Column to Create Regression Model\n",
        "data['area'] = raw_data['area'] # Input\n",
        "data['price'] = raw_data['price'] # Label"
      ],
      "metadata": {
        "id": "Fl4BvmGJW7-Z"
      },
      "execution_count": 24,
      "outputs": []
    },
    {
      "cell_type": "code",
      "source": [
        "# Create input and label variable\n",
        "X = data['area']\n",
        "y = data['price']"
      ],
      "metadata": {
        "id": "YgRDMIqFZtLV"
      },
      "execution_count": 29,
      "outputs": []
    },
    {
      "cell_type": "code",
      "source": [
        "# Check Missing Values\n",
        "data.isnull().sum()"
      ],
      "metadata": {
        "colab": {
          "base_uri": "https://localhost:8080/"
        },
        "id": "XX_yJE67WiwL",
        "outputId": "2b7ccb3c-e546-4075-f107-b2cd47bfefd8"
      },
      "execution_count": 25,
      "outputs": [
        {
          "output_type": "execute_result",
          "data": {
            "text/plain": [
              "area     0\n",
              "price    0\n",
              "dtype: int64"
            ]
          },
          "metadata": {},
          "execution_count": 25
        }
      ]
    },
    {
      "cell_type": "code",
      "source": [
        "# Normalize Data\n",
        "scaler = MinMaxScaler()\n",
        "data = pd.DataFrame(scaler.fit_transform(data), columns = data.columns)"
      ],
      "metadata": {
        "id": "1VHngN9kYnR8"
      },
      "execution_count": 27,
      "outputs": []
    },
    {
      "cell_type": "code",
      "source": [
        "# Split data to 70% and 30% (train and test)\n",
        "X_train, X_test, y_train, y_test = train_test_split(X, y, test_size=0.30, shuffle = False)"
      ],
      "metadata": {
        "id": "5B3syZqhZcyy"
      },
      "execution_count": 43,
      "outputs": []
    },
    {
      "cell_type": "code",
      "source": [
        "# 1D Shape\n",
        "np.array(X_train).shape\n",
        "np.array(X_test).shape"
      ],
      "metadata": {
        "colab": {
          "base_uri": "https://localhost:8080/"
        },
        "id": "GQ-FH9a3bXmi",
        "outputId": "ecc031de-370d-40fe-a9c9-41d722394efb"
      },
      "execution_count": 50,
      "outputs": [
        {
          "output_type": "execute_result",
          "data": {
            "text/plain": [
              "(164,)"
            ]
          },
          "metadata": {},
          "execution_count": 50
        }
      ]
    },
    {
      "cell_type": "code",
      "source": [
        "# Convert 1D to 2D\n",
        "X_train = np.array(X_train).reshape(-1, 1) # 1D to 2D Array\n",
        "X_test = np.array(X_test).reshape(-1, 1) # 1D to 2D Array\n",
        "X_train.shape\n",
        "X_test.shape"
      ],
      "metadata": {
        "colab": {
          "base_uri": "https://localhost:8080/"
        },
        "id": "DefDzB3sa6hV",
        "outputId": "b7ae9be3-6fbc-4d18-de8b-b98ea85e1eca"
      },
      "execution_count": 51,
      "outputs": [
        {
          "output_type": "execute_result",
          "data": {
            "text/plain": [
              "(164, 1)"
            ]
          },
          "metadata": {},
          "execution_count": 51
        }
      ]
    },
    {
      "cell_type": "markdown",
      "source": [
        "### Data Processing"
      ],
      "metadata": {
        "id": "0KfyuLZeY9en"
      }
    },
    {
      "cell_type": "code",
      "source": [
        "# Create model\n",
        "LinRegModel = LinearRegression()"
      ],
      "metadata": {
        "id": "CrNZUnu4ZOoK"
      },
      "execution_count": 36,
      "outputs": []
    },
    {
      "cell_type": "code",
      "source": [
        "# Training Data\n",
        "history = LinRegModel.fit(X_train, y_train)"
      ],
      "metadata": {
        "id": "IFfT3riTaiEP"
      },
      "execution_count": 46,
      "outputs": []
    },
    {
      "cell_type": "code",
      "source": [
        "# Regresion Coefisien \n",
        "history.coef_"
      ],
      "metadata": {
        "colab": {
          "base_uri": "https://localhost:8080/"
        },
        "id": "UWWxQxsBbfIz",
        "outputId": "15d8e178-dfad-4b9d-a4c7-87026771e41e"
      },
      "execution_count": 47,
      "outputs": [
        {
          "output_type": "execute_result",
          "data": {
            "text/plain": [
              "array([0.43875547])"
            ]
          },
          "metadata": {},
          "execution_count": 47
        }
      ]
    },
    {
      "cell_type": "code",
      "source": [
        "# Regresion Intercept \n",
        "history.intercept_"
      ],
      "metadata": {
        "colab": {
          "base_uri": "https://localhost:8080/"
        },
        "id": "PBcTsrFvbtos",
        "outputId": "4f9a8a18-6105-496c-ace2-28d4a35dd23d"
      },
      "execution_count": 48,
      "outputs": [
        {
          "output_type": "execute_result",
          "data": {
            "text/plain": [
              "0.20695735638777052"
            ]
          },
          "metadata": {},
          "execution_count": 48
        }
      ]
    },
    {
      "cell_type": "code",
      "source": [
        "# Model Scores\n",
        "scores = history.score(X_test, y_test)"
      ],
      "metadata": {
        "id": "5BfzCjzkcBC3"
      },
      "execution_count": 52,
      "outputs": []
    },
    {
      "cell_type": "code",
      "source": [
        "scores"
      ],
      "metadata": {
        "colab": {
          "base_uri": "https://localhost:8080/"
        },
        "id": "pHFlpFmrcgZG",
        "outputId": "8371d445-0c6b-4781-f990-3439c25ece06"
      },
      "execution_count": 53,
      "outputs": [
        {
          "output_type": "execute_result",
          "data": {
            "text/plain": [
              "-17.689337917216125"
            ]
          },
          "metadata": {},
          "execution_count": 53
        }
      ]
    },
    {
      "cell_type": "markdown",
      "source": [
        "### Regression with Neural Networks"
      ],
      "metadata": {
        "id": "kVW7Y_LIc2WT"
      }
    },
    {
      "cell_type": "code",
      "source": [
        ""
      ],
      "metadata": {
        "id": "jjp3MosBc1nT"
      },
      "execution_count": null,
      "outputs": []
    }
  ]
}